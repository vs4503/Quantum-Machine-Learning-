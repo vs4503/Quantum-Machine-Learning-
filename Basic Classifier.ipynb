{
 "cells": [
  {
   "cell_type": "code",
   "execution_count": 7,
   "id": "b56ff5f1",
   "metadata": {},
   "outputs": [
    {
     "name": "stdout",
     "output_type": "stream",
     "text": [
      "Preparing Q# environment...\n",
      ".."
     ]
    }
   ],
   "source": [
    "import qsharp"
   ]
  },
  {
   "cell_type": "code",
   "execution_count": 8,
   "id": "c020a8bc",
   "metadata": {},
   "outputs": [
    {
     "data": {
      "application/x-qsharp-data": "{\"LastUpdated\":\"2023-05-18T09:57:42.6384777-04:00\",\"IsCompleted\":false,\"Description\":\"Adding package \",\"Subtask\":null}",
      "text/plain": [
       "Adding package ."
      ]
     },
     "metadata": {},
     "output_type": "display_data"
    },
    {
     "data": {
      "text/plain": [
       "[('Microsoft.Quantum.Standard', LooseVersion ('0.28.263081')), ('Microsoft.Quantum.Standard.Visualization', LooseVersion ('0.28.263081'))]"
      ]
     },
     "execution_count": 8,
     "metadata": {},
     "output_type": "execute_result"
    }
   ],
   "source": [
    "qsharp.packages"
   ]
  },
  {
   "cell_type": "code",
   "execution_count": 9,
   "id": "06ea295f",
   "metadata": {},
   "outputs": [
    {
     "data": {
      "application/x-qsharp-data": "{\"LastUpdated\":\"2023-05-18T09:58:39.7809475-04:00\",\"IsCompleted\":false,\"Description\":\"Adding package Microsoft.Quantum.MachineLearning\",\"Subtask\":null}",
      "text/plain": [
       "Adding package Microsoft.Quantum.MachineLearning."
      ]
     },
     "metadata": {},
     "output_type": "display_data"
    }
   ],
   "source": [
    "qsharp.packages.add('Microsoft.Quantum.MachineLearning')"
   ]
  },
  {
   "cell_type": "code",
   "execution_count": 11,
   "id": "4d231f8b",
   "metadata": {},
   "outputs": [
    {
     "data": {
      "application/x-qsharp-data": "{\"LastUpdated\":\"2023-05-18T09:59:16.3036765-04:00\",\"IsCompleted\":false,\"Description\":\"Adding package \",\"Subtask\":null}",
      "text/plain": [
       "Adding package ."
      ]
     },
     "metadata": {},
     "output_type": "display_data"
    },
    {
     "data": {
      "text/plain": [
       "[('Microsoft.Quantum.Standard', LooseVersion ('0.28.263081')), ('Microsoft.Quantum.Standard.Visualization', LooseVersion ('0.28.263081')), ('Microsoft.Quantum.MachineLearning', LooseVersion ('0.28.263081'))]"
      ]
     },
     "execution_count": 11,
     "metadata": {},
     "output_type": "execute_result"
    }
   ],
   "source": [
    "qsharp.packages"
   ]
  },
  {
   "cell_type": "code",
   "execution_count": 14,
   "id": "9a4b995a",
   "metadata": {},
   "outputs": [
    {
     "name": "stdout",
     "output_type": "stream",
     "text": [
      "C:\\snippet_.qs(37,36): warning QS3308: Deprecated syntax. Use [] to construct an empty array, or [x, size = n] to construct an array of x repeated n times.\r\n",
      "C:\\snippet_.qs(36,36): warning QS3308: Deprecated syntax. Use [] to construct an empty array, or [x, size = n] to construct an array of x repeated n times.\r\n",
      "C:\\snippet_.qs(33,36): warning QS3308: Deprecated syntax. Use [] to construct an empty array, or [x, size = n] to construct an array of x repeated n times.\r\n",
      "C:\\snippet_.qs(32,36): warning QS3308: Deprecated syntax. Use [] to construct an empty array, or [x, size = n] to construct an array of x repeated n times.\r\n",
      "C:\\snippet_.qs(31,36): warning QS3308: Deprecated syntax. Use [] to construct an empty array, or [x, size = n] to construct an array of x repeated n times.\r\n",
      "C:\\snippet_.qs(30,36): warning QS3308: Deprecated syntax. Use [] to construct an empty array, or [x, size = n] to construct an array of x repeated n times.\r\n",
      "C:\\snippet_.qs(101,21): warning QS5004: Microsoft.Quantum.Core.Default has been deprecated.\r\n"
     ]
    }
   ],
   "source": [
    "%%qsharp\n",
    "  \n",
    "    open Microsoft.Quantum.Convert;\n",
    "    open Microsoft.Quantum.Intrinsic;\n",
    "    open Microsoft.Quantum.Canon;\n",
    "    open Microsoft.Quantum.Arrays;\n",
    "    open Microsoft.Quantum.MachineLearning;\n",
    "    open Microsoft.Quantum.Math;\n",
    "\n",
    "    function WithProductKernel(scale : Double, sample : Double[]) : Double[] {\n",
    "        return sample + [scale * Fold(TimesD, 1.0, sample)];\n",
    "    }\n",
    "\n",
    "    function Preprocessed(samples : Double[][]) : Double[][] {\n",
    "        let scale = 1.0;\n",
    "\n",
    "        return Mapped(\n",
    "            WithProductKernel(scale, _),\n",
    "            samples\n",
    "        );\n",
    "    }\n",
    "\n",
    "    function DefaultSchedule(samples : Double[][]) : SamplingSchedule {\n",
    "        return SamplingSchedule([\n",
    "            0..Length(samples) - 1\n",
    "        ]);\n",
    "    }\n",
    "\n",
    "    function ClassifierStructure() : ControlledRotation[] {\n",
    "        return [\n",
    "            ControlledRotation((0, new Int[0]), PauliX, 4),\n",
    "            ControlledRotation((0, new Int[0]), PauliZ, 5),\n",
    "            ControlledRotation((1, new Int[0]), PauliX, 6),\n",
    "            ControlledRotation((1, new Int[0]), PauliZ, 7),\n",
    "            ControlledRotation((0, [1]), PauliX, 0),\n",
    "            ControlledRotation((1, [0]), PauliX, 1),\n",
    "            ControlledRotation((1, new Int[0]), PauliZ, 2),\n",
    "            ControlledRotation((1, new Int[0]), PauliX, 3)\n",
    "        ];\n",
    "    }\n",
    "\n",
    "    operation TrainHalfMoonModel(\n",
    "        trainingVectors : Double[][],\n",
    "        trainingLabels : Int[],\n",
    "        initialParameters : Double[][]\n",
    "    ) : (Double[], Double) {\n",
    "        let samples = Mapped(\n",
    "            LabeledSample,\n",
    "            Zipped(Preprocessed(trainingVectors), trainingLabels)\n",
    "        );\n",
    "        Message(\"Ready to train.\");\n",
    "        let (optimizedModel, nMisses) = TrainSequentialClassifier(\n",
    "            Mapped(\n",
    "                SequentialModel(ClassifierStructure(), _, 0.0),\n",
    "                initialParameters\n",
    "            ),\n",
    "            samples,\n",
    "            DefaultTrainingOptions()\n",
    "                w/ LearningRate <- 0.1\n",
    "                w/ MinibatchSize <- 15\n",
    "                w/ Tolerance <- 0.005\n",
    "                w/ NMeasurements <- 10000\n",
    "                w/ MaxEpochs <- 16\n",
    "                w/ VerboseMessage <- Message,\n",
    "            DefaultSchedule(trainingVectors),\n",
    "            DefaultSchedule(trainingVectors)\n",
    "        );\n",
    "        Message($\"Training complete, found optimal parameters: {optimizedModel::Parameters}\");\n",
    "        return (optimizedModel::Parameters, optimizedModel::Bias);\n",
    "    }\n",
    "\n",
    "    operation ValidateHalfMoonModel(\n",
    "        validationVectors : Double[][],\n",
    "        validationLabels : Int[],\n",
    "        parameters : Double[],\n",
    "        bias : Double\n",
    "    ) : Double {\n",
    "        let samples = Mapped(\n",
    "            LabeledSample,\n",
    "            Zipped(Preprocessed(validationVectors), validationLabels)\n",
    "        );\n",
    "        let tolerance = 0.005;\n",
    "        let nMeasurements = 10000;\n",
    "        let results = ValidateSequentialClassifier(\n",
    "            SequentialModel(ClassifierStructure(), parameters, bias),\n",
    "            samples,\n",
    "            tolerance,\n",
    "            nMeasurements,\n",
    "            DefaultSchedule(validationVectors)\n",
    "        );\n",
    "        return IntAsDouble(results::NMisclassifications) / IntAsDouble(Length(samples));\n",
    "    }\n",
    "\n",
    "    operation ClassifyHalfMoonModel(\n",
    "        samples : Double[][],\n",
    "        parameters : Double[],\n",
    "        bias : Double,\n",
    "        tolerance  : Double,\n",
    "        nMeasurements : Int\n",
    "    )\n",
    "    : Int[] {\n",
    "        let model = Default<SequentialModel>()\n",
    "            w/ Structure <- ClassifierStructure()\n",
    "            w/ Parameters <- parameters\n",
    "            w/ Bias <- bias;\n",
    "        let features = Preprocessed(samples);\n",
    "        let probabilities = EstimateClassificationProbabilities(\n",
    "            tolerance, model,\n",
    "            features, nMeasurements\n",
    "        );\n",
    "        return InferredLabels(model::Bias, probabilities);\n",
    "    }"
   ]
  },
  {
   "cell_type": "code",
   "execution_count": 15,
   "id": "12afb1f2",
   "metadata": {},
   "outputs": [
    {
     "ename": "FileNotFoundError",
     "evalue": "[Errno 2] No such file or directory: 'data.json'",
     "output_type": "error",
     "traceback": [
      "\u001b[1;31m---------------------------------------------------------------------------\u001b[0m",
      "\u001b[1;31mFileNotFoundError\u001b[0m                         Traceback (most recent call last)",
      "Cell \u001b[1;32mIn[15], line 11\u001b[0m\n\u001b[0;32m      7\u001b[0m plt\u001b[38;5;241m.\u001b[39mstyle\u001b[38;5;241m.\u001b[39muse(\u001b[38;5;124m'\u001b[39m\u001b[38;5;124mggplot\u001b[39m\u001b[38;5;124m'\u001b[39m)\n\u001b[0;32m     10\u001b[0m \u001b[38;5;28;01mif\u001b[39;00m \u001b[38;5;18m__name__\u001b[39m \u001b[38;5;241m==\u001b[39m \u001b[38;5;124m\"\u001b[39m\u001b[38;5;124m__main__\u001b[39m\u001b[38;5;124m\"\u001b[39m:\n\u001b[1;32m---> 11\u001b[0m     \u001b[38;5;28;01mwith\u001b[39;00m \u001b[38;5;28;43mopen\u001b[39;49m\u001b[43m(\u001b[49m\u001b[38;5;124;43m'\u001b[39;49m\u001b[38;5;124;43mdata.json\u001b[39;49m\u001b[38;5;124;43m'\u001b[39;49m\u001b[43m)\u001b[49m \u001b[38;5;28;01mas\u001b[39;00m f:\n\u001b[0;32m     12\u001b[0m         data \u001b[38;5;241m=\u001b[39m json\u001b[38;5;241m.\u001b[39mload(f)\n\u001b[0;32m     13\u001b[0m     parameter_starting_points \u001b[38;5;241m=\u001b[39m [\n\u001b[0;32m     14\u001b[0m         [\u001b[38;5;241m0.060057\u001b[39m, \u001b[38;5;241m3.00522\u001b[39m,  \u001b[38;5;241m2.03083\u001b[39m,  \u001b[38;5;241m0.63527\u001b[39m,  \u001b[38;5;241m1.03771\u001b[39m, \u001b[38;5;241m1.27881\u001b[39m, \u001b[38;5;241m4.10186\u001b[39m,  \u001b[38;5;241m5.34396\u001b[39m],\n\u001b[0;32m     15\u001b[0m         [\u001b[38;5;241m0.586514\u001b[39m, \u001b[38;5;241m3.371623\u001b[39m, \u001b[38;5;241m0.860791\u001b[39m, \u001b[38;5;241m2.92517\u001b[39m,  \u001b[38;5;241m1.14616\u001b[39m, \u001b[38;5;241m2.99776\u001b[39m, \u001b[38;5;241m2.26505\u001b[39m,  \u001b[38;5;241m5.62137\u001b[39m],\n\u001b[0;32m     16\u001b[0m         [\u001b[38;5;241m1.69704\u001b[39m,  \u001b[38;5;241m1.13912\u001b[39m,  \u001b[38;5;241m2.3595\u001b[39m,   \u001b[38;5;241m4.037552\u001b[39m, \u001b[38;5;241m1.63698\u001b[39m, \u001b[38;5;241m1.27549\u001b[39m, \u001b[38;5;241m0.328671\u001b[39m, \u001b[38;5;241m0.302282\u001b[39m],\n\u001b[0;32m     17\u001b[0m         [\u001b[38;5;241m5.21662\u001b[39m,  \u001b[38;5;241m6.04363\u001b[39m,  \u001b[38;5;241m0.224184\u001b[39m, \u001b[38;5;241m1.53913\u001b[39m,  \u001b[38;5;241m1.64524\u001b[39m, \u001b[38;5;241m4.79508\u001b[39m, \u001b[38;5;241m1.49742\u001b[39m,  \u001b[38;5;241m1.545\u001b[39m]\n\u001b[0;32m     18\u001b[0m      ]\n",
      "File \u001b[1;32m~\\anaconda3\\envs\\qsharp-env\\lib\\site-packages\\IPython\\core\\interactiveshell.py:284\u001b[0m, in \u001b[0;36m_modified_open\u001b[1;34m(file, *args, **kwargs)\u001b[0m\n\u001b[0;32m    277\u001b[0m \u001b[38;5;28;01mif\u001b[39;00m file \u001b[38;5;129;01min\u001b[39;00m {\u001b[38;5;241m0\u001b[39m, \u001b[38;5;241m1\u001b[39m, \u001b[38;5;241m2\u001b[39m}:\n\u001b[0;32m    278\u001b[0m     \u001b[38;5;28;01mraise\u001b[39;00m \u001b[38;5;167;01mValueError\u001b[39;00m(\n\u001b[0;32m    279\u001b[0m         \u001b[38;5;124mf\u001b[39m\u001b[38;5;124m\"\u001b[39m\u001b[38;5;124mIPython won\u001b[39m\u001b[38;5;124m'\u001b[39m\u001b[38;5;124mt let you open fd=\u001b[39m\u001b[38;5;132;01m{\u001b[39;00mfile\u001b[38;5;132;01m}\u001b[39;00m\u001b[38;5;124m by default \u001b[39m\u001b[38;5;124m\"\u001b[39m\n\u001b[0;32m    280\u001b[0m         \u001b[38;5;124m\"\u001b[39m\u001b[38;5;124mas it is likely to crash IPython. If you know what you are doing, \u001b[39m\u001b[38;5;124m\"\u001b[39m\n\u001b[0;32m    281\u001b[0m         \u001b[38;5;124m\"\u001b[39m\u001b[38;5;124myou can use builtins\u001b[39m\u001b[38;5;124m'\u001b[39m\u001b[38;5;124m open.\u001b[39m\u001b[38;5;124m\"\u001b[39m\n\u001b[0;32m    282\u001b[0m     )\n\u001b[1;32m--> 284\u001b[0m \u001b[38;5;28;01mreturn\u001b[39;00m io_open(file, \u001b[38;5;241m*\u001b[39margs, \u001b[38;5;241m*\u001b[39m\u001b[38;5;241m*\u001b[39mkwargs)\n",
      "\u001b[1;31mFileNotFoundError\u001b[0m: [Errno 2] No such file or directory: 'data.json'"
     ]
    }
   ],
   "source": [
    "import json\n",
    "\n",
    "import numpy as np\n",
    "import matplotlib.pyplot as plt\n",
    "import matplotlib.colors as colors\n",
    "import matplotlib.cm as cmx\n",
    "plt.style.use('ggplot')\n",
    "\n",
    "\n",
    "if __name__ == \"__main__\":\n",
    "    with open('data.json') as f:\n",
    "        data = json.load(f)\n",
    "    parameter_starting_points = [\n",
    "        [0.060057, 3.00522,  2.03083,  0.63527,  1.03771, 1.27881, 4.10186,  5.34396],\n",
    "        [0.586514, 3.371623, 0.860791, 2.92517,  1.14616, 2.99776, 2.26505,  5.62137],\n",
    "        [1.69704,  1.13912,  2.3595,   4.037552, 1.63698, 1.27549, 0.328671, 0.302282],\n",
    "        [5.21662,  6.04363,  0.224184, 1.53913,  1.64524, 4.79508, 1.49742,  1.545]\n",
    "     ]\n",
    "\n",
    "    (parameters, bias) = TrainHalfMoonModel.simulate(\n",
    "        trainingVectors=data['TrainingData']['Features'],\n",
    "        trainingLabels=data['TrainingData']['Labels'],\n",
    "        initialParameters=parameter_starting_points\n",
    "    )\n",
    "\n",
    "    miss_rate = ValidateHalfMoonModel.simulate(\n",
    "        validationVectors=data['ValidationData']['Features'],\n",
    "        validationLabels=data['ValidationData']['Labels'],\n",
    "        parameters=parameters, bias=bias\n",
    "    )\n",
    "\n",
    "    print(f\"Miss rate: {miss_rate:0.2%}\")\n",
    "\n",
    "    # Classify the validation so that we can plot it.\n",
    "    actual_labels = data['ValidationData']['Labels']\n",
    "    classified_labels = ClassifyHalfMoonModel.simulate(\n",
    "        samples=data['ValidationData']['Features'],\n",
    "        parameters=parameters, bias=bias,\n",
    "        tolerance=0.005, nMeasurements=10_000\n",
    "    )\n",
    "\n",
    "\n",
    "    # To plot samples, it's helpful to have colors for each.\n",
    "    # We'll plot four cases:\n",
    "    # - actually 0, classified as 0\n",
    "    # - actually 0, classified as 1\n",
    "    # - actually 1, classified as 1\n",
    "    # - actually 1, classified as 0\n",
    "    cases = [\n",
    "        (0, 0),\n",
    "        (0, 1),\n",
    "        (1, 1),\n",
    "        (1, 0)\n",
    "    ]\n",
    "    # We can use these cases to define markers and colormaps for plotting.\n",
    "    markers = [\n",
    "        '.' if actual == classified else 'x'\n",
    "        for (actual, classified) in cases\n",
    "    ]\n",
    "    colormap = cmx.ScalarMappable(colors.Normalize(vmin=0, vmax=len(cases) - 1))\n",
    "    colors = [colormap.to_rgba(idx_case) for (idx_case, case) in enumerate(cases)]\n",
    "\n",
    "    # It's also really helpful to have the samples as a NumPy array so that we\n",
    "    # can find masks for each of the four cases.\n",
    "    samples = np.array(data['ValidationData']['Features'])\n",
    "\n",
    "    # Finally, we loop over the cases above and plot the samples that match\n",
    "    # each.\n",
    "    for (idx_case, ((actual, classified), marker, color)) in enumerate(zip(cases, markers, colors)):\n",
    "        mask = np.logical_and(\n",
    "            np.equal(actual_labels, actual),\n",
    "            np.equal(classified_labels, classified)\n",
    "        )\n",
    "        if not np.any(mask):\n",
    "            continue\n",
    "        plt.scatter(\n",
    "            samples[mask, 0],\n",
    "            samples[mask, 1],\n",
    "            c=[color],\n",
    "            label=f\"Was {actual}, classified {classified}\",\n",
    "            marker=marker\n",
    "        )\n",
    "    plt.legend()\n",
    "    plt.show()\n"
   ]
  },
  {
   "cell_type": "code",
   "execution_count": null,
   "id": "acacc00f",
   "metadata": {},
   "outputs": [],
   "source": []
  }
 ],
 "metadata": {
  "kernelspec": {
   "display_name": "Python 3 (ipykernel)",
   "language": "python",
   "name": "python3"
  },
  "language_info": {
   "codemirror_mode": {
    "name": "ipython",
    "version": 3
   },
   "file_extension": ".py",
   "mimetype": "text/x-python",
   "name": "python",
   "nbconvert_exporter": "python",
   "pygments_lexer": "ipython3",
   "version": "3.9.16"
  }
 },
 "nbformat": 4,
 "nbformat_minor": 5
}
